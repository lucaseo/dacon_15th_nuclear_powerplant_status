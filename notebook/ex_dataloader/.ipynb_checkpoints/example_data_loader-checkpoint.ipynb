{
 "cells": [
  {
   "cell_type": "code",
   "execution_count": null,
   "metadata": {},
   "outputs": [],
   "source": [
    "import os\n",
    "import pandas as pd \n",
    "import numpy as np\n",
    "from multiprocessing import Pool \n",
    "import multiprocessing\n",
    "from tqdm import tqdm\n",
    "from functools import partial\n",
    "\n",
    "import sys\n",
    "sys.path.append('../../utils/')\n",
    "from data_loader import data_loader #data_loader.py 파일을 다운 받아 주셔야 합니다. "
   ]
  },
  {
   "cell_type": "code",
   "execution_count": null,
   "metadata": {},
   "outputs": [],
   "source": [
    "def data_loader_all(func, path, train, nrows, **kwargs):\n",
    "    '''\n",
    "    Parameters:\n",
    "    \n",
    "    func: 하나의 csv파일을 읽는 함수 \n",
    "    path: [str] train용 또는 test용 csv 파일들이 저장되어 있는 폴더 \n",
    "    train: [boolean] train용 파일들 불러올 시 True, 아니면 False\n",
    "    nrows: [int] csv 파일에서 불러올 상위 n개의 row \n",
    "    lookup_table: [pd.DataFrame] train_label.csv 파일을 저장한 변수 \n",
    "    event_time: [int] 상태_B 발생 시간 \n",
    "    normal: [int] 상태_A의 라벨\n",
    "    \n",
    "    Return:\n",
    "    \n",
    "    combined_df: 병합된 train 또는 test data\n",
    "    '''\n",
    "    \n",
    "    # 읽어올 파일들만 경로 저장 해놓기 \n",
    "    files_in_dir = os.listdir(path)\n",
    "    \n",
    "    files_path = [path+'/'+file for file in files_in_dir]\n",
    "    \n",
    "    if train :\n",
    "        func_fixed = partial(func, nrows = nrows, train = True, lookup_table = kwargs['lookup_table'], event_time = kwargs['event_time'], normal = kwargs['normal'])\n",
    "        \n",
    "    else : \n",
    "        func_fixed = partial(func, nrows = nrows, train = False)\n",
    "    \n",
    "    \n",
    "    # 여러개의 코어를 활용하여 데이터 읽기 \n",
    "    if __name__ == '__main__':\n",
    "        pool = Pool(processes = multiprocessing.cpu_count()) \n",
    "        df_list = list(tqdm(pool.imap(func_fixed, files_path), total = len(files_path)))\n",
    "        pool.close()\n",
    "        pool.join()\n",
    "    \n",
    "    # 데이터 병합하기 \n",
    "    combined_df = pd.concat(df_list, ignore_index=True)\n",
    "    \n",
    "    return combined_df"
   ]
  },
  {
   "cell_type": "code",
   "execution_count": null,
   "metadata": {},
   "outputs": [],
   "source": [
    "train_path = '../../../data/train/'\n",
    "test_path = '../../../data/test/'\n",
    "label = pd.read_csv('../../../data/train_label.csv')"
   ]
  },
  {
   "cell_type": "code",
   "execution_count": null,
   "metadata": {},
   "outputs": [],
   "source": [
    "train = data_loader_all(data_loader, path=train_path, train = True, nrows = 100, normal = 999, event_time = 10, lookup_table = label)"
   ]
  },
  {
   "cell_type": "code",
   "execution_count": null,
   "metadata": {},
   "outputs": [],
   "source": []
  }
 ],
 "metadata": {
  "kernelspec": {
   "display_name": "Python 3",
   "language": "python",
   "name": "python3"
  },
  "language_info": {
   "codemirror_mode": {
    "name": "ipython",
    "version": 3
   },
   "file_extension": ".py",
   "mimetype": "text/x-python",
   "name": "python",
   "nbconvert_exporter": "python",
   "pygments_lexer": "ipython3",
   "version": "3.7.6"
  }
 },
 "nbformat": 4,
 "nbformat_minor": 2
}
