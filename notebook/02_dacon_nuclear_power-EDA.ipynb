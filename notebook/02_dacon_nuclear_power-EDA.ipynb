{
 "cells": [
  {
   "cell_type": "code",
   "execution_count": null,
   "metadata": {},
   "outputs": [],
   "source": [
    "import os\n",
    "import pandas as pd \n",
    "import numpy as np\n",
    "from multiprocessing import Pool \n",
    "import multiprocessing\n",
    "\n",
    "import sys\n",
    "sys.path.append('../../utils/')\n",
    "from data_loader import data_loader #data_loader.py 파일을 다운 받아 주셔야 합니다. \n",
    "from tqdm import tqdm\n",
    "from functools import partial\n",
    "\n",
    "import matplotlib.pyplot as plt\n",
    "from collections import Counter\n",
    "\n",
    "import glob\n"
   ]
  },
  {
   "cell_type": "raw",
   "metadata": {},
   "source": [
    "def data_loader_all(func, path, train, nrows, **kwargs):\n",
    "    '''\n",
    "    Parameters:\n",
    "    \n",
    "    func: 하나의 csv파일을 읽는 함수 \n",
    "    path: [str] train용 또는 test용 csv 파일들이 저장되어 있는 폴더 \n",
    "    train: [boolean] train용 파일들 불러올 시 True, 아니면 False\n",
    "    nrows: [int] csv 파일에서 불러올 상위 n개의 row \n",
    "    lookup_table: [pd.DataFrame] train_label.csv 파일을 저장한 변수 \n",
    "    event_time: [int] 상태_B 발생 시간 \n",
    "    normal: [int] 상태_A의 라벨\n",
    "    \n",
    "    Return:\n",
    "    \n",
    "    combined_df: 병합된 train 또는 test data\n",
    "    '''\n",
    "    \n",
    "    # 읽어올 파일들만 경로 저장 해놓기 \n",
    "    files_in_dir = os.listdir(path)\n",
    "    \n",
    "    files_path = [path+'/'+file for file in files_in_dir]\n",
    "    \n",
    "    if train :\n",
    "        func_fixed = partial(func, nrows = nrows, train = True, lookup_table = kwargs['lookup_table'], event_time = kwargs['event_time'], normal = kwargs['normal'])\n",
    "        \n",
    "    else : \n",
    "        func_fixed = partial(func, nrows = nrows, train = False)\n",
    "    \n",
    "    \n",
    "    # 여러개의 코어를 활용하여 데이터 읽기 \n",
    "    if __name__ == '__main__':\n",
    "        pool = Pool(processes = multiprocessing.cpu_count()) \n",
    "        df_list = list(tqdm(pool.imap(func_fixed, files_path), total = len(files_path)))\n",
    "        pool.close()\n",
    "        pool.join()\n",
    "    \n",
    "    # 데이터 병합하기 \n",
    "    combined_df = pd.concat(df_list, ignore_index=True)\n",
    "    \n",
    "    return combined_df\n",
    "    "
   ]
  },
  {
   "cell_type": "raw",
   "metadata": {},
   "source": [
    "# nrows를 50으로 진행 600하면 터짐. 높이면 성능 올라갈듯. 제너레이터 필요.\n",
    "\n",
    "train_path = '../../../data/train/'\n",
    "test_path = '../../../data/test/'\n",
    "label = pd.read_csv('../../../data/train_label.csv')"
   ]
  },
  {
   "cell_type": "raw",
   "metadata": {},
   "source": [
    "train = data_loader_all(data_loader, path = train_path, train = True, nrows = 100, normal = 999, event_time = 10, lookup_table = label)"
   ]
  },
  {
   "cell_type": "raw",
   "metadata": {},
   "source": [
    "train.to_csv('../../../data/train/train_100.csv', index=False)"
   ]
  },
  {
   "cell_type": "code",
   "execution_count": null,
   "metadata": {},
   "outputs": [],
   "source": [
    "train = pd.read_csv('../../../data/train/train_100.csv')"
   ]
  },
  {
   "cell_type": "raw",
   "metadata": {},
   "source": [
    "test = data_loader_all(data_loader, path = test_path, train = False, nrows = 100)\n"
   ]
  },
  {
   "cell_type": "raw",
   "metadata": {},
   "source": [
    "test.to_csv('../../../data/test/test_100.csv', index=False)"
   ]
  },
  {
   "cell_type": "markdown",
   "metadata": {},
   "source": [
    "## 위까지 데이콘 코드 아래부터 추가코드"
   ]
  },
  {
   "cell_type": "code",
   "execution_count": null,
   "metadata": {},
   "outputs": [],
   "source": [
    "train.shape"
   ]
  },
  {
   "cell_type": "code",
   "execution_count": null,
   "metadata": {},
   "outputs": [],
   "source": [
    "train.head(1)"
   ]
  },
  {
   "cell_type": "code",
   "execution_count": null,
   "metadata": {},
   "outputs": [],
   "source": [
    "train.select_dtypes(exclude='object')"
   ]
  },
  {
   "cell_type": "code",
   "execution_count": null,
   "metadata": {
    "scrolled": false
   },
   "outputs": [],
   "source": [
    "#라벨분포. 라벨 분포에 따라 적은 라벨은 학습이 덜될수도 있을듯?\n",
    "#업샘플링, 다운샘플링 연구 필요\n",
    "plt.hist(label.label, bins=50)"
   ]
  },
  {
   "cell_type": "code",
   "execution_count": null,
   "metadata": {},
   "outputs": [],
   "source": [
    "from sklearn.ensemble import RandomForestClassifier\n",
    "# from sklearn.multioutput import MultiOutputClassifier\n"
   ]
  },
  {
   "cell_type": "code",
   "execution_count": null,
   "metadata": {},
   "outputs": [],
   "source": [
    "#랜덤포레스트 분류기 사용해서 진행.\n",
    "#더 좋은 모델 사용하면 오를듯.\n",
    "#999는 '상태A'임. 다빼버림.\n",
    "\n",
    "rfc = RandomForestClassifier()\n",
    "\n",
    "train_X = train[train.label!=999]\n",
    "train_y = train_X.label\n",
    "\n",
    "train_X = train_X.drop(['id','time','label'], axis=1)"
   ]
  },
  {
   "cell_type": "code",
   "execution_count": null,
   "metadata": {},
   "outputs": [],
   "source": [
    "train_X.shape, train_y.shape"
   ]
  },
  {
   "cell_type": "code",
   "execution_count": null,
   "metadata": {},
   "outputs": [],
   "source": [
    "#학습\n",
    "\n",
    "rfc.fit(train_X,train_y)"
   ]
  },
  {
   "cell_type": "code",
   "execution_count": null,
   "metadata": {
    "scrolled": true
   },
   "outputs": [],
   "source": [
    "# test csv 들을 넣어서 각csv의 row별로 라벨 별 확률값인 predict_proba를 평균내서 각 csv별 predict_proba를 구함.\n",
    "# 1154, 1168은 문자열포함이라 추론에러남. 그냥 빼고 진행. 나중에 0으로 채움.\n",
    "\n",
    "results = []\n",
    "\n",
    "for i in range(828,1548):\n",
    "    print(i)\n",
    "    if i != 1154 and i != 1168:\n",
    "        tmp = pd.read_csv('./test/'+str(i)+'.csv')\n",
    "        tmp = tmp.drop(['time'], axis=1)\n",
    "        result = rfc.predict_proba(tmp)\n",
    "\n",
    "        results.append(np.mean(result,axis=0))"
   ]
  },
  {
   "cell_type": "code",
   "execution_count": null,
   "metadata": {},
   "outputs": [],
   "source": [
    "#위에서 뺀 1154, 1168자리에 0으로 채움\n",
    "\n",
    "results.insert(326,[0]*198)\n",
    "results.insert(340,[0]*198)"
   ]
  },
  {
   "cell_type": "code",
   "execution_count": null,
   "metadata": {},
   "outputs": [],
   "source": [
    "#id열 추가하고 DF만듬.\n",
    "\n",
    "id = pd.DataFrame(np.arange(828,1548), columns=['id'])\n",
    "submit = pd.DataFrame(results)\n",
    "\n",
    "submit = pd.concat([id,submit], axis=1)"
   ]
  },
  {
   "cell_type": "code",
   "execution_count": null,
   "metadata": {},
   "outputs": [],
   "source": [
    "submit.head()"
   ]
  },
  {
   "cell_type": "code",
   "execution_count": null,
   "metadata": {},
   "outputs": [],
   "source": [
    "submit.shape\n"
   ]
  },
  {
   "cell_type": "code",
   "execution_count": null,
   "metadata": {},
   "outputs": [],
   "source": [
    "#id 1154에 0들어갔는지 확인\n",
    "\n",
    "submit[submit['id']==1154]"
   ]
  },
  {
   "cell_type": "code",
   "execution_count": null,
   "metadata": {},
   "outputs": [],
   "source": [
    "#id 1154에 0들어갔는지 확인\n",
    "\n",
    "submit[submit['id']==1168]"
   ]
  },
  {
   "cell_type": "code",
   "execution_count": null,
   "metadata": {},
   "outputs": [],
   "source": [
    "#데이터프레임 생성\n",
    "\n",
    "submit.to_csv('./submit_test.csv', index=False)"
   ]
  },
  {
   "cell_type": "code",
   "execution_count": null,
   "metadata": {},
   "outputs": [],
   "source": []
  }
 ],
 "metadata": {
  "kernelspec": {
   "display_name": "Python 3",
   "language": "python",
   "name": "python3"
  },
  "language_info": {
   "codemirror_mode": {
    "name": "ipython",
    "version": 3
   },
   "file_extension": ".py",
   "mimetype": "text/x-python",
   "name": "python",
   "nbconvert_exporter": "python",
   "pygments_lexer": "ipython3",
   "version": "3.7.6"
  }
 },
 "nbformat": 4,
 "nbformat_minor": 2
}
